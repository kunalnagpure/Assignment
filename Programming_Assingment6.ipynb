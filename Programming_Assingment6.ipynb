{
  "nbformat": 4,
  "nbformat_minor": 0,
  "metadata": {
    "colab": {
      "name": "Programming_Assingment6.ipynb",
      "provenance": [],
      "authorship_tag": "ABX9TyNxSo1GVHe3EruNcYUA8N/d",
      "include_colab_link": true
    },
    "kernelspec": {
      "name": "python3",
      "display_name": "Python 3"
    },
    "language_info": {
      "name": "python"
    }
  },
  "cells": [
    {
      "cell_type": "markdown",
      "metadata": {
        "id": "view-in-github",
        "colab_type": "text"
      },
      "source": [
        "<a href=\"https://colab.research.google.com/github/kunalnagpure/Assignment/blob/main/Programming_Assingment6.ipynb\" target=\"_parent\"><img src=\"https://colab.research.google.com/assets/colab-badge.svg\" alt=\"Open In Colab\"/></a>"
      ]
    },
    {
      "cell_type": "markdown",
      "source": [
        "1. Write a Python Program to Display Fibonacci Sequence Using Recursion?"
      ],
      "metadata": {
        "id": "xTvxAhG-eMyl"
      }
    },
    {
      "cell_type": "code",
      "source": [
        "def febo(i):\n",
        "  if i <= 1:\n",
        "    return i\n",
        "  else:\n",
        "    return (febo(i-1) + febo(i-2))\n",
        "\n",
        "n = int(input(\"Fibonacci Sequence Using Recursion of :\"))\n",
        "for i in range(n):\n",
        "  print(febo(i))"
      ],
      "metadata": {
        "id": "J4b0HVrs-oUa",
        "colab": {
          "base_uri": "https://localhost:8080/"
        },
        "outputId": "101fb514-348d-441b-c6b8-8f16842cb587"
      },
      "execution_count": 10,
      "outputs": [
        {
          "output_type": "stream",
          "name": "stdout",
          "text": [
            "Fibonacci Sequence Using Recursion of :10\n",
            "0\n",
            "1\n",
            "1\n",
            "2\n",
            "3\n",
            "5\n",
            "8\n",
            "13\n",
            "21\n",
            "34\n"
          ]
        }
      ]
    },
    {
      "cell_type": "markdown",
      "source": [
        "2. Write a Python Program to Find Factorial of Number Using Recursion?"
      ],
      "metadata": {
        "id": "uKncDQiZeTKA"
      }
    },
    {
      "cell_type": "code",
      "source": [
        "# Factorial of a number using recursion\n",
        "\n",
        "def recur_factorial(n):\n",
        "   if n == 1:\n",
        "       return n\n",
        "   else:\n",
        "       return n*recur_factorial(n-1)\n",
        "\n",
        "num = 7\n",
        "\n",
        "# check if the number is negative\n",
        "if num < 0:\n",
        "   print(\"Sorry, factorial does not exist for negative numbers\")\n",
        "elif num == 0:\n",
        "   print(\"The factorial of 0 is 1\")\n",
        "else:\n",
        "   print(\"The factorial of\", num, \"is\", recur_factorial(num))\n"
      ],
      "metadata": {
        "id": "UJIdan8eeYwA",
        "colab": {
          "base_uri": "https://localhost:8080/"
        },
        "outputId": "2ee22136-441c-4451-8bda-42f982ab97f7"
      },
      "execution_count": 16,
      "outputs": [
        {
          "output_type": "stream",
          "name": "stdout",
          "text": [
            "The factorial of 7 is 5040\n"
          ]
        }
      ]
    },
    {
      "cell_type": "code",
      "source": [
        "def fact(n):\n",
        "  if n == 0:\n",
        "    return 1\n",
        "  elif n < 0:\n",
        "    return \"not exist for negative numbers\"\n",
        "  else:\n",
        "    return(fact(n-1)*n)\n",
        "    \n",
        "n = int(input(\"Factorial of \"))\n",
        "print(\"is\", fact(n))"
      ],
      "metadata": {
        "colab": {
          "base_uri": "https://localhost:8080/"
        },
        "id": "_Jzn1AHxs_8b",
        "outputId": "286b805a-df02-4bf0-d964-b5c91a06b9b2"
      },
      "execution_count": 36,
      "outputs": [
        {
          "output_type": "stream",
          "name": "stdout",
          "text": [
            "Factorial of 5\n",
            "is 120\n"
          ]
        }
      ]
    },
    {
      "cell_type": "markdown",
      "source": [
        "3. Write a Python Program to calculate your Body Mass Index?"
      ],
      "metadata": {
        "id": "0-OXbWfveV9f"
      }
    },
    {
      "cell_type": "code",
      "source": [
        ""
      ],
      "metadata": {
        "id": "6snWqNpNeZbB"
      },
      "execution_count": null,
      "outputs": []
    },
    {
      "cell_type": "markdown",
      "source": [
        "4. Write a Python Program to calculate the natural logarithm of any number?"
      ],
      "metadata": {
        "id": "sU8gpJoeeaEC"
      }
    },
    {
      "cell_type": "code",
      "source": [
        ""
      ],
      "metadata": {
        "id": "WcvzMBx3eeUx"
      },
      "execution_count": null,
      "outputs": []
    },
    {
      "cell_type": "markdown",
      "source": [
        "5. Write a Python Program for cube sum of first n natural numbers?"
      ],
      "metadata": {
        "id": "uODAaMkneeva"
      }
    },
    {
      "cell_type": "code",
      "source": [
        ""
      ],
      "metadata": {
        "id": "XcPCxmgneg24"
      },
      "execution_count": null,
      "outputs": []
    }
  ]
}