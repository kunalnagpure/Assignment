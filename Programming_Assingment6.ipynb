{
  "nbformat": 4,
  "nbformat_minor": 0,
  "metadata": {
    "colab": {
      "name": "Programming_Assingment6.ipynb",
      "provenance": [],
      "authorship_tag": "ABX9TyP01KF4HpGod4xBSmG+I/zA",
      "include_colab_link": true
    },
    "kernelspec": {
      "name": "python3",
      "display_name": "Python 3"
    },
    "language_info": {
      "name": "python"
    }
  },
  "cells": [
    {
      "cell_type": "markdown",
      "metadata": {
        "id": "view-in-github",
        "colab_type": "text"
      },
      "source": [
        "<a href=\"https://colab.research.google.com/github/kunalnagpure/Assignment/blob/main/Programming_Assingment6.ipynb\" target=\"_parent\"><img src=\"https://colab.research.google.com/assets/colab-badge.svg\" alt=\"Open In Colab\"/></a>"
      ]
    },
    {
      "cell_type": "markdown",
      "source": [
        "1. Write a Python Program to Display Fibonacci Sequence Using Recursion?"
      ],
      "metadata": {
        "id": "xTvxAhG-eMyl"
      }
    },
    {
      "cell_type": "code",
      "source": [
        "def febo(i):\n",
        "  if i <= 1:\n",
        "    return i\n",
        "  else:\n",
        "    return (febo(i-1) + febo(i-2))\n",
        "\n",
        "n = int(input(\"Fibonacci Sequence Using Recursion of :\"))\n",
        "for i in range(n):\n",
        "  print(febo(i))"
      ],
      "metadata": {
        "id": "J4b0HVrs-oUa",
        "colab": {
          "base_uri": "https://localhost:8080/"
        },
        "outputId": "bf9e64e0-13d1-4584-b52c-cb923b78fb9c"
      },
      "execution_count": 1,
      "outputs": [
        {
          "output_type": "stream",
          "name": "stdout",
          "text": [
            "Fibonacci Sequence Using Recursion of :7\n",
            "0\n",
            "1\n",
            "1\n",
            "2\n",
            "3\n",
            "5\n",
            "8\n"
          ]
        }
      ]
    },
    {
      "cell_type": "markdown",
      "source": [
        "2. Write a Python Program to Find Factorial of Number Using Recursion?"
      ],
      "metadata": {
        "id": "uKncDQiZeTKA"
      }
    },
    {
      "cell_type": "code",
      "source": [
        "def fact(n):\n",
        "  if n == 0:\n",
        "    return 1\n",
        "  elif n < 0:\n",
        "    return \"not exist for negative numbers\"\n",
        "  else:\n",
        "    return(fact(n-1)*n)\n",
        "    \n",
        "n = int(input(\"Factorial of \"))\n",
        "print(\"is\", fact(n))"
      ],
      "metadata": {
        "colab": {
          "base_uri": "https://localhost:8080/"
        },
        "id": "_Jzn1AHxs_8b",
        "outputId": "b0cf6e54-5f69-4316-db1e-72da923e6d49"
      },
      "execution_count": 2,
      "outputs": [
        {
          "output_type": "stream",
          "name": "stdout",
          "text": [
            "Factorial of 10\n",
            "is 3628800\n"
          ]
        }
      ]
    },
    {
      "cell_type": "markdown",
      "source": [
        "  3. Write a Python Program to calculate your Body Mass Index?"
      ],
      "metadata": {
        "id": "0-OXbWfveV9f"
      }
    },
    {
      "cell_type": "code",
      "source": [
        "def BMI(ht, wt):\n",
        "\tbmi = wt/(ht*ht)\n",
        "\treturn bmi\n",
        "\n",
        "ht = int(input(\"Please provide Height \"))\n",
        "wt = int(input(\"Please provide Weight \"))\n",
        "print(\"BMI is \",BMI(ht,wt))"
      ],
      "metadata": {
        "colab": {
          "base_uri": "https://localhost:8080/"
        },
        "id": "DuFaG_uS0ULZ",
        "outputId": "954d9358-fa3b-4bc0-b789-e315f85d988e"
      },
      "execution_count": 3,
      "outputs": [
        {
          "output_type": "stream",
          "name": "stdout",
          "text": [
            "Please provide Height 7\n",
            "Please provide Weight 90\n",
            "BMI is  1.836734693877551\n"
          ]
        }
      ]
    },
    {
      "cell_type": "markdown",
      "source": [
        "4. Write a Python Program to calculate the natural logarithm of any number?"
      ],
      "metadata": {
        "id": "sU8gpJoeeaEC"
      }
    },
    {
      "cell_type": "code",
      "source": [
        "import math\n",
        "n = int(input(\"Please provide n for natural logarithm :\"))\n",
        "print (\"Natural logarithm of\",n, \"is :\",math.log(n))"
      ],
      "metadata": {
        "id": "WcvzMBx3eeUx",
        "colab": {
          "base_uri": "https://localhost:8080/"
        },
        "outputId": "d944ae8f-d607-41b0-d862-518a828ff08a"
      },
      "execution_count": 4,
      "outputs": [
        {
          "output_type": "stream",
          "name": "stdout",
          "text": [
            "Please provide n for natural logarithm :44\n",
            "Natural logarithm of 44 is : 3.784189633918261\n"
          ]
        }
      ]
    },
    {
      "cell_type": "markdown",
      "source": [
        "5. Write a Python Program for cube sum of first n natural numbers?"
      ],
      "metadata": {
        "id": "uODAaMkneeva"
      }
    },
    {
      "cell_type": "code",
      "source": [
        "def sumOfSeries(n):\n",
        "\tx = (n * (n + 1) / 2)\n",
        "\treturn(x*x)\n",
        "\n",
        "n = int(input(\"Please provide n for cube sum of first n natural numbers : \"))\n",
        "print(int(sumOfSeries(n)))"
      ],
      "metadata": {
        "id": "XcPCxmgneg24",
        "colab": {
          "base_uri": "https://localhost:8080/"
        },
        "outputId": "41763172-1439-4988-955d-2ed920b4589b"
      },
      "execution_count": 5,
      "outputs": [
        {
          "output_type": "stream",
          "name": "stdout",
          "text": [
            "Please provide n for cube sum of first n natural numbers : 4\n",
            "100\n"
          ]
        }
      ]
    },
    {
      "cell_type": "code",
      "source": [
        ""
      ],
      "metadata": {
        "id": "gDtTSVMF5v7M"
      },
      "execution_count": 5,
      "outputs": []
    }
  ]
}