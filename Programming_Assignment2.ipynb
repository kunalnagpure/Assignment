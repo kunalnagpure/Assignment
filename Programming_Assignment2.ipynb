{
 "cells": [
  {
   "cell_type": "code",
   "execution_count": 1,
   "id": "a6b10be1",
   "metadata": {},
   "outputs": [],
   "source": [
    "# 1.Write a Python program to convert kilometers to miles?"
   ]
  },
  {
   "cell_type": "code",
   "execution_count": 2,
   "id": "54c9f882",
   "metadata": {},
   "outputs": [
    {
     "name": "stdout",
     "output_type": "stream",
     "text": [
      "12.100 kilometers is equal to 7.519 miles\n",
      "27.1000 kilometers is equal to 16.8399 miles\n"
     ]
    }
   ],
   "source": [
    "km = 12.1\n",
    "\n",
    "# conversion factor \"x\" for kilometers to miles\n",
    "x = 0.6214\n",
    "\n",
    "# calculate miles\n",
    "mi = km * x\n",
    "print('%0.3f kilometers is equal to %0.3f miles' %(km,mi))\n",
    "\n",
    "km = 27.1\n",
    "\n",
    "# calculate miles\n",
    "mi = km * x\n",
    "print('%0.4f kilometers is equal to %0.4f miles' %(km,mi))"
   ]
  },
  {
   "cell_type": "code",
   "execution_count": 3,
   "id": "830ff8ce",
   "metadata": {},
   "outputs": [],
   "source": [
    "# 2.Write a Python program to convert Celsius to Fahrenheit?"
   ]
  },
  {
   "cell_type": "code",
   "execution_count": 4,
   "id": "df5db255",
   "metadata": {},
   "outputs": [
    {
     "name": "stdout",
     "output_type": "stream",
     "text": [
      " 38.00 Celsius = 100.40 Fahrenheit\n"
     ]
    }
   ],
   "source": [
    "# Temperature input in Celsius\n",
    "c = 38\n",
    "\n",
    "# Formula for convert Celsius to Fahrenheit\n",
    "f = ( c * 1.8 ) + 32\n",
    "\n",
    "print (\" %.2f Celsius = %.2f Fahrenheit\" %(c,f))"
   ]
  },
  {
   "cell_type": "code",
   "execution_count": 5,
   "id": "74ffd664",
   "metadata": {},
   "outputs": [],
   "source": [
    "# 3.Write a Python program to display calendar?"
   ]
  },
  {
   "cell_type": "code",
   "execution_count": 6,
   "id": "5cd34a69",
   "metadata": {},
   "outputs": [
    {
     "name": "stdout",
     "output_type": "stream",
     "text": [
      "      May 2022\n",
      "Mo Tu We Th Fr Sa Su\n",
      "                   1\n",
      " 2  3  4  5  6  7  8\n",
      " 9 10 11 12 13 14 15\n",
      "16 17 18 19 20 21 22\n",
      "23 24 25 26 27 28 29\n",
      "30 31\n",
      "\n"
     ]
    }
   ],
   "source": [
    "import calendar\n",
    "\n",
    "yyyy = 2022\n",
    "mm = 5\n",
    "\n",
    "print (calendar.month(yyyy,mm))"
   ]
  },
  {
   "cell_type": "code",
   "execution_count": 7,
   "id": "0f43e12c",
   "metadata": {},
   "outputs": [],
   "source": [
    "# 4.Write a Python program to solve quadratic equation?"
   ]
  },
  {
   "cell_type": "code",
   "execution_count": 8,
   "id": "f85965eb",
   "metadata": {},
   "outputs": [
    {
     "name": "stdout",
     "output_type": "stream",
     "text": [
      "Real and different roots \n",
      "0.0\n",
      "-10.0\n"
     ]
    }
   ],
   "source": [
    "import math\n",
    "\n",
    "def qe( a, b, c):\n",
    "    dis = b * b - 4 * a * c\n",
    "    sqrtval = math.sqrt(abs(dis))\n",
    "    if dis > 0:\n",
    "        print(\"Real and different roots \")\n",
    "        print((-b + sqrtval)/(2 * a))\n",
    "        print((-b - sqrtval)/(2 * a))\n",
    "    elif dis == 0:\n",
    "        print(\"Real and same roots\")\n",
    "        print(-b / (2 * a))\n",
    "    else:\n",
    "        print(\"Complex Roots\")\n",
    "        print(- b / (2 * a), \" + i\", sqrtval)\n",
    "        print(- b / (2 * a), \" - i\", sqrtval)\n",
    "        \n",
    "\n",
    "# Example\n",
    "a = 10\n",
    "b = 100\n",
    "c = 0\n",
    "\n",
    "if a == 0:\n",
    "    print(\"Input correct quadratic equation\")\n",
    "\n",
    "else:\n",
    "    qe(a, b, c)\n"
   ]
  },
  {
   "cell_type": "code",
   "execution_count": 9,
   "id": "228a3d88",
   "metadata": {},
   "outputs": [],
   "source": [
    "# 5.Write a Python program to swap two variables without temp variable?"
   ]
  },
  {
   "cell_type": "code",
   "execution_count": 10,
   "id": "044dd771",
   "metadata": {},
   "outputs": [
    {
     "name": "stdout",
     "output_type": "stream",
     "text": [
      "Enter Value of x :  22  and y :  65\n",
      "New Value after swap of x :  65  and y :  22\n"
     ]
    }
   ],
   "source": [
    "x = 22\n",
    "y = 65\n",
    "print(\"Enter Value of x : \", x, \" and y : \", y)\n",
    "\n",
    "# swap 'x' and 'y' without temp varialble\n",
    "x, y = y, x\n",
    "\n",
    "print(\"New Value after swap of x : \", x, \" and y : \", y)"
   ]
  },
  {
   "cell_type": "code",
   "execution_count": null,
   "id": "c915ad04",
   "metadata": {},
   "outputs": [],
   "source": []
  }
 ],
 "metadata": {
  "kernelspec": {
   "display_name": "Python 3 (ipykernel)",
   "language": "python",
   "name": "python3"
  },
  "language_info": {
   "codemirror_mode": {
    "name": "ipython",
    "version": 3
   },
   "file_extension": ".py",
   "mimetype": "text/x-python",
   "name": "python",
   "nbconvert_exporter": "python",
   "pygments_lexer": "ipython3",
   "version": "3.9.7"
  }
 },
 "nbformat": 4,
 "nbformat_minor": 5
}
