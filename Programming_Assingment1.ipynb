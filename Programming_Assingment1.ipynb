{
 "cells": [
  {
   "cell_type": "code",
   "execution_count": 1,
   "id": "1a1aceb1",
   "metadata": {},
   "outputs": [],
   "source": [
    "# 1.Write a Python program to print \"Hello Python\"?"
   ]
  },
  {
   "cell_type": "code",
   "execution_count": 2,
   "id": "c65a2faa",
   "metadata": {},
   "outputs": [
    {
     "name": "stdout",
     "output_type": "stream",
     "text": [
      "Hello Python\n"
     ]
    }
   ],
   "source": [
    "print(\"Hello Python\")"
   ]
  },
  {
   "cell_type": "code",
   "execution_count": 3,
   "id": "2b226737",
   "metadata": {},
   "outputs": [],
   "source": [
    "# 2.Write a Python program to do arithmetical operations addition and division.?"
   ]
  },
  {
   "cell_type": "code",
   "execution_count": 4,
   "id": "6f6948f0",
   "metadata": {},
   "outputs": [
    {
     "name": "stdout",
     "output_type": "stream",
     "text": [
      "Arithmetical Operations\n",
      "Addition Operation :- \n",
      "Value of a = 4\n",
      "Value of b = 8\n",
      "Addition of a + b = 12\n",
      "Division Operation :- \n",
      "Value of a = 4\n",
      "Value of b = 8\n",
      "Addition of b / a = 2\n"
     ]
    }
   ],
   "source": [
    "a = 4\n",
    "b = 8\n",
    "\n",
    "print (\"Arithmetical Operations\")\n",
    "print (\"Addition Operation :- \")\n",
    "\n",
    "c = a + b\n",
    "print (\"Value of a =\",a)\n",
    "print (\"Value of b =\",b)\n",
    "print (\"Addition of a + b =\",c)\n",
    "\n",
    "print (\"Division Operation :- \")\n",
    "c = b // a\n",
    "print (\"Value of a =\",a)\n",
    "print (\"Value of b =\",b)\n",
    "print (\"Addition of b / a =\",c)"
   ]
  },
  {
   "cell_type": "code",
   "execution_count": 5,
   "id": "40deda89",
   "metadata": {},
   "outputs": [],
   "source": [
    "# 3.Write a Python program to find the area of a triangle?"
   ]
  },
  {
   "cell_type": "code",
   "execution_count": 6,
   "id": "b169028b",
   "metadata": {},
   "outputs": [
    {
     "name": "stdout",
     "output_type": "stream",
     "text": [
      "Enter first side: 50\n",
      "Enter second side: 40\n",
      "Enter third side: 30\n",
      "The area of the triangle is 600.0000\n"
     ]
    }
   ],
   "source": [
    "# Sides of the triangle is a, b and c:  \n",
    "a = int(input('Enter first side: '))  \n",
    "b = int(input('Enter second side: '))  \n",
    "c = int(input('Enter third side: '))  \n",
    "  \n",
    "# calculate the semi-perimeter  \n",
    "s = (a + b + c) / 2  \n",
    "  \n",
    "# calculate the area  \n",
    "area = (s*(s-a)*(s-b)*(s-c)) ** 0.5  \n",
    "print('The area of the triangle is %0.4f' %area)"
   ]
  },
  {
   "cell_type": "code",
   "execution_count": 7,
   "id": "344cc038",
   "metadata": {},
   "outputs": [],
   "source": [
    "# 4.Write a Python program to swap two variables?"
   ]
  },
  {
   "cell_type": "code",
   "execution_count": 8,
   "id": "bcf5f809",
   "metadata": {},
   "outputs": [
    {
     "name": "stdout",
     "output_type": "stream",
     "text": [
      "Value of a = 5 and b = 4\n",
      "Swapping of two variables\n",
      "New value of a = 4\n",
      "New value of b = 5\n"
     ]
    }
   ],
   "source": [
    "# Swapping of two variables\n",
    "\n",
    "a = 5\n",
    "b = 4\n",
    "\n",
    "print(\"Value of a = {} and b = {}\".format(a,b))\n",
    "\n",
    "print (\"Swapping of two variables\")\n",
    "temp = a\n",
    "a = b\n",
    "b = temp\n",
    "\n",
    "print (\"New value of a =\",a)\n",
    "print (\"New value of b =\",b)"
   ]
  },
  {
   "cell_type": "code",
   "execution_count": 9,
   "id": "b4d3f1e4",
   "metadata": {},
   "outputs": [],
   "source": [
    "# 5.Write a Python program to generate a random number?"
   ]
  },
  {
   "cell_type": "code",
   "execution_count": 10,
   "id": "01253811",
   "metadata": {},
   "outputs": [
    {
     "name": "stdout",
     "output_type": "stream",
     "text": [
      "Print random number: 0.9594336780368222\n"
     ]
    }
   ],
   "source": [
    "import random\n",
    "\n",
    "r = random.random()\n",
    "print (\"Print random number:\",r)"
   ]
  },
  {
   "cell_type": "code",
   "execution_count": null,
   "id": "51e356c4",
   "metadata": {},
   "outputs": [],
   "source": []
  }
 ],
 "metadata": {
  "kernelspec": {
   "display_name": "Python 3 (ipykernel)",
   "language": "python",
   "name": "python3"
  },
  "language_info": {
   "codemirror_mode": {
    "name": "ipython",
    "version": 3
   },
   "file_extension": ".py",
   "mimetype": "text/x-python",
   "name": "python",
   "nbconvert_exporter": "python",
   "pygments_lexer": "ipython3",
   "version": "3.9.7"
  }
 },
 "nbformat": 4,
 "nbformat_minor": 5
}
