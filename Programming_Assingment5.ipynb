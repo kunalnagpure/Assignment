{
 "cells": [
  {
   "cell_type": "code",
   "execution_count": 1,
   "id": "c9acc58f",
   "metadata": {},
   "outputs": [
    {
     "name": "stdout",
     "output_type": "stream",
     "text": [
      "LCM is 40\n"
     ]
    }
   ],
   "source": [
    "#1.Write a Python Program to Find LCM?\n",
    "\n",
    "def GCD(x, y):\n",
    "\n",
    "   while(y):\n",
    "       x, y = y, x % y\n",
    "   return x\n",
    "\n",
    "def LCM(x, y):\n",
    "   LCM = (x*y)//GCD(x,y)\n",
    "   return LCM\n",
    "\n",
    "x = 8\n",
    "y = 10 \n",
    "\n",
    "print(\"LCM is\", LCM(x,y))"
   ]
  },
  {
   "cell_type": "code",
   "execution_count": 2,
   "id": "a3644ef7",
   "metadata": {},
   "outputs": [
    {
     "name": "stdout",
     "output_type": "stream",
     "text": [
      "x = 121\n",
      "y = 55\n",
      "HCF is :  11\n"
     ]
    }
   ],
   "source": [
    "#2.Write a Python Program to Find HCF?\n",
    "\n",
    "x = int(input( 'x = '))\n",
    "y= int(input( 'y = '))\n",
    "\n",
    "if x > y:\n",
    "    small = y\n",
    "else:\n",
    "    small = x\n",
    "\n",
    "for i in range(1, small+1):\n",
    "    if((x%i==0) and (y%i==0)):\n",
    "        HCF = i\n",
    "    \n",
    "print(\"HCF is : \",HCF)\n"
   ]
  },
  {
   "cell_type": "code",
   "execution_count": 3,
   "id": "b11ce41f",
   "metadata": {},
   "outputs": [
    {
     "name": "stdout",
     "output_type": "stream",
     "text": [
      "x is 36\n",
      "Decimal value will  36\n",
      "Binary value will  0b100100\n",
      "Hexadecimal value will  0x24\n",
      "Octal value will  0o44\n"
     ]
    }
   ],
   "source": [
    "#3.Write a Python Program to Convert Decimal to Binary, Octal and Hexadecimal?\n",
    "\n",
    "x = int(input(\"x is \"))\n",
    "print (\"Decimal value will \",x)\n",
    "print (\"Binary value will \",bin(x))\n",
    "print (\"Hexadecimal value will \",hex(x))\n",
    "print (\"Octal value will \",oct(x))"
   ]
  },
  {
   "cell_type": "code",
   "execution_count": 4,
   "id": "0b7e8a61",
   "metadata": {},
   "outputs": [
    {
     "name": "stdout",
     "output_type": "stream",
     "text": [
      "Character is r\n",
      "ASCII val of Character is 114\n"
     ]
    }
   ],
   "source": [
    "#4.Write a Python Program To Find ASCII value of a character?\n",
    "char = input(\"Character is \")\n",
    "print(\"ASCII val of Character is\",ord(char))"
   ]
  },
  {
   "cell_type": "code",
   "execution_count": 5,
   "id": "15347a2d",
   "metadata": {},
   "outputs": [
    {
     "name": "stdout",
     "output_type": "stream",
     "text": [
      "Please op math operation -\n",
      "1 for Add\n",
      "2 for Subtract\n",
      "3 for Multiply\n",
      "4 for Divide\n",
      "\n",
      "op operations form 1, 2, 3, 4 :4\n",
      "Enter x: 222\n",
      "Enter y: 65\n",
      "222 / 65 = 3.4153846153846152\n"
     ]
    }
   ],
   "source": [
    "#5.Write a Python Program to Make a Simple Calculator with 4 basic mathematical operations?\n",
    "\n",
    "def add(x, y):\n",
    "    return x + y\n",
    " \n",
    "def subt(x, y):\n",
    "    return x - y\n",
    " \n",
    "def mult(x, y):\n",
    "    return x * y\n",
    " \n",
    "def div(x, y):\n",
    "    return x / y\n",
    " \n",
    "print(\"Please op math operation -\\n\" \\\n",
    "        \"1 for Add\\n\" \\\n",
    "        \"2 for Subtract\\n\" \\\n",
    "        \"3 for Multiply\\n\" \\\n",
    "        \"4 for Divide\\n\")\n",
    "\n",
    "op = int(input(\"op operations form 1, 2, 3, 4 :\"))\n",
    " \n",
    "x = int(input(\"Enter x: \"))\n",
    "y = int(input(\"Enter y: \"))\n",
    " \n",
    "if op == 1:\n",
    "    print(x, \"+\", y, \"=\",add(x, y))\n",
    " \n",
    "elif op == 2:\n",
    "    print(x, \"-\", y, \"=\",sub(x, y))\n",
    " \n",
    "elif op == 3:\n",
    "    print(x, \"*\", y, \"=\",mult(x, y))\n",
    " \n",
    "elif op == 4:\n",
    "    print(x, \"/\", y, \"=\",div(x, y))\n",
    "else:\n",
    "    print(\"Please select correct operation\")\n",
    "    \n",
    " \n",
    "    "
   ]
  },
  {
   "cell_type": "code",
   "execution_count": null,
   "id": "2b3bbe90",
   "metadata": {},
   "outputs": [],
   "source": [
    "\n"
   ]
  },
  {
   "cell_type": "code",
   "execution_count": null,
   "id": "51c62f3e",
   "metadata": {},
   "outputs": [],
   "source": []
  }
 ],
 "metadata": {
  "kernelspec": {
   "display_name": "Python 3 (ipykernel)",
   "language": "python",
   "name": "python3"
  },
  "language_info": {
   "codemirror_mode": {
    "name": "ipython",
    "version": 3
   },
   "file_extension": ".py",
   "mimetype": "text/x-python",
   "name": "python",
   "nbconvert_exporter": "python",
   "pygments_lexer": "ipython3",
   "version": "3.9.7"
  }
 },
 "nbformat": 4,
 "nbformat_minor": 5
}
