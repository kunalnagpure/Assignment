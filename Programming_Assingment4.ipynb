{
 "cells": [
  {
   "cell_type": "code",
   "execution_count": 1,
   "id": "f777565d",
   "metadata": {},
   "outputs": [
    {
     "name": "stdout",
     "output_type": "stream",
     "text": [
      "n = 5\n",
      "fact of  5  =  120\n"
     ]
    }
   ],
   "source": [
    "#1.Write a Python Program to Find the Factorial of a Number?\n",
    "\n",
    "n = int(input(\"n = \"))\n",
    "fact = 1\n",
    "if n == 0:\n",
    "    print(\"Fact of n = 0 is 1\")\n",
    "elif  n < 0:\n",
    "    print(\"Fact not exists for negative number\")\n",
    "else:\n",
    "    for i in range(1,n+1):\n",
    "        fact = i*fact\n",
    "    print(\"fact of \", n ,\" = \",fact)\n",
    "    \n",
    "    "
   ]
  },
  {
   "cell_type": "code",
   "execution_count": 2,
   "id": "662e97ee",
   "metadata": {},
   "outputs": [
    {
     "name": "stdout",
     "output_type": "stream",
     "text": [
      "Table of : 25\n",
      "25 x 1 = 25\n",
      "25 x 2 = 50\n",
      "25 x 3 = 75\n",
      "25 x 4 = 100\n",
      "25 x 5 = 125\n",
      "25 x 6 = 150\n",
      "25 x 7 = 175\n",
      "25 x 8 = 200\n",
      "25 x 9 = 225\n",
      "25 x 10 = 250\n"
     ]
    }
   ],
   "source": [
    "#2.Write a Python Program to Display the multiplication Table?\n",
    "\n",
    "n = int(input(\"Table of : \"))\n",
    "for i in range(1,11):\n",
    "    print(n,\"x\",i,\"=\",n*i)"
   ]
  },
  {
   "cell_type": "code",
   "execution_count": 3,
   "id": "795b2893",
   "metadata": {},
   "outputs": [],
   "source": [
    "#3.Write a Python Program to Print the Fibonacci sequence?\n",
    "\n",
    "def Fibonacciseq(n):\n",
    "    \n",
    "    if n < 0:\n",
    "        return \"Invalid input\"\n",
    "    \n",
    "    elif n == 0:\n",
    "        return \"1\"\n",
    "    \n",
    "    else:\n",
    "        a = 0\n",
    "        b = 1\n",
    "        c = 0\n",
    "        for i in range(0,n+1):\n",
    "            print(c)\n",
    "            c = a + b\n",
    "            (a,b) = (b,c)\n",
    "            #for j in range(n):\n",
    "            #print(c)\n",
    "        \n"
   ]
  },
  {
   "cell_type": "code",
   "execution_count": 4,
   "id": "29cf5f36",
   "metadata": {},
   "outputs": [
    {
     "name": "stdout",
     "output_type": "stream",
     "text": [
      "0\n",
      "1\n",
      "2\n",
      "3\n",
      "5\n",
      "8\n",
      "13\n",
      "21\n",
      "34\n",
      "55\n"
     ]
    }
   ],
   "source": [
    "Fibonacciseq(9)"
   ]
  },
  {
   "cell_type": "code",
   "execution_count": 5,
   "id": "a87a2a43",
   "metadata": {},
   "outputs": [
    {
     "data": {
      "text/plain": [
       "'1'"
      ]
     },
     "execution_count": 5,
     "metadata": {},
     "output_type": "execute_result"
    }
   ],
   "source": [
    "Fibonacciseq(0)"
   ]
  },
  {
   "cell_type": "code",
   "execution_count": 6,
   "id": "08cc5386",
   "metadata": {},
   "outputs": [
    {
     "data": {
      "text/plain": [
       "'Invalid input'"
      ]
     },
     "execution_count": 6,
     "metadata": {},
     "output_type": "execute_result"
    }
   ],
   "source": [
    "Fibonacciseq(-9)"
   ]
  },
  {
   "cell_type": "code",
   "execution_count": 7,
   "id": "c014e15f",
   "metadata": {},
   "outputs": [
    {
     "name": "stdout",
     "output_type": "stream",
     "text": [
      "Check Armstrong Number for 153\n",
      "Given Number is Armstrong Number\n"
     ]
    }
   ],
   "source": [
    "#4.Write a Python Program to Check Armstrong Number?\n",
    "\n",
    "x = int(input(\"Check Armstrong Number for \"))\n",
    "y = x\n",
    "n = len(str(x))\n",
    "sum=0\n",
    "while y!=0:\n",
    "    i = y%10\n",
    "    sum += i**n\n",
    "    y = y//10\n",
    "if sum==x:\n",
    "    print('Given Number is Armstrong Number')\n",
    "else:\n",
    "    print('Not a Armstrong Number')\n"
   ]
  },
  {
   "cell_type": "code",
   "execution_count": 8,
   "id": "68e03cc9",
   "metadata": {},
   "outputs": [
    {
     "name": "stdout",
     "output_type": "stream",
     "text": [
      "Given Number is Armstrong Number 0\n",
      "Given Number is Armstrong Number 1\n",
      "Given Number is Armstrong Number 2\n",
      "Given Number is Armstrong Number 3\n",
      "Given Number is Armstrong Number 4\n",
      "Given Number is Armstrong Number 5\n",
      "Given Number is Armstrong Number 6\n",
      "Given Number is Armstrong Number 7\n",
      "Given Number is Armstrong Number 8\n",
      "Given Number is Armstrong Number 9\n",
      "Given Number is Armstrong Number 153\n",
      "Given Number is Armstrong Number 370\n",
      "Given Number is Armstrong Number 371\n",
      "Given Number is Armstrong Number 407\n",
      "Given Number is Armstrong Number 1634\n"
     ]
    }
   ],
   "source": [
    "#5.Write a Python Program to Find Armstrong Number in an Interval?\n",
    "\n",
    "\n",
    "for x in range(0,3000):\n",
    "    n = len(str(x))\n",
    "    y = x \n",
    "    sum = 0\n",
    "    while y!=0:\n",
    "        i = y%10\n",
    "        sum += i**n\n",
    "        y = y//10\n",
    "    if sum==x:\n",
    "        print('Given Number is Armstrong Number',x)\n",
    "\n",
    "    "
   ]
  },
  {
   "cell_type": "code",
   "execution_count": 9,
   "id": "ed169860",
   "metadata": {},
   "outputs": [
    {
     "name": "stdout",
     "output_type": "stream",
     "text": [
      "Sum of Natural Numbers : 10\n",
      "55\n"
     ]
    }
   ],
   "source": [
    "#6.Write a Python Program to Find the Sum of Natural Numbers?\n",
    "\n",
    "x = int(input(\"Sum of Natural Numbers : \"))\n",
    "sum = 0\n",
    "for i in range(1,x+1):\n",
    "    sum = sum + i\n",
    "print(sum)"
   ]
  },
  {
   "cell_type": "code",
   "execution_count": null,
   "id": "31d1255d",
   "metadata": {},
   "outputs": [],
   "source": []
  }
 ],
 "metadata": {
  "kernelspec": {
   "display_name": "Python 3 (ipykernel)",
   "language": "python",
   "name": "python3"
  },
  "language_info": {
   "codemirror_mode": {
    "name": "ipython",
    "version": 3
   },
   "file_extension": ".py",
   "mimetype": "text/x-python",
   "name": "python",
   "nbconvert_exporter": "python",
   "pygments_lexer": "ipython3",
   "version": "3.9.7"
  }
 },
 "nbformat": 4,
 "nbformat_minor": 5
}
